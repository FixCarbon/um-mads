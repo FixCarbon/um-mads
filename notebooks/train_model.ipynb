{
 "cells": [
  {
   "cell_type": "code",
   "execution_count": 30,
   "id": "afd412e0-d29b-4b32-bdc8-e7e7c63082af",
   "metadata": {},
   "outputs": [],
   "source": [
    "import pandas as pd\n",
    "from sklearn.linear_model import LinearRegression, Ridge, Lasso, ElasticNet\n",
    "from sklearn.metrics import mean_absolute_error, mean_squared_error, mean_absolute_percentage_error, r2_score"
   ]
  },
  {
   "cell_type": "code",
   "execution_count": 14,
   "id": "93c8aebc-c983-49b7-89b2-e83ae6559b60",
   "metadata": {},
   "outputs": [],
   "source": [
    "df = pd.read_parquet('../data/processed/df_easternmountain_train.parquet.gzip')\n",
    "df = df.reset_index(drop=True)"
   ]
  },
  {
   "cell_type": "code",
   "execution_count": 15,
   "id": "f46cc147-c015-4b3b-a248-d3ccf41813ac",
   "metadata": {},
   "outputs": [
    {
     "data": {
      "text/html": [
       "<div>\n",
       "<style scoped>\n",
       "    .dataframe tbody tr th:only-of-type {\n",
       "        vertical-align: middle;\n",
       "    }\n",
       "\n",
       "    .dataframe tbody tr th {\n",
       "        vertical-align: top;\n",
       "    }\n",
       "\n",
       "    .dataframe thead th {\n",
       "        text-align: right;\n",
       "    }\n",
       "</style>\n",
       "<table border=\"1\" class=\"dataframe\">\n",
       "  <thead>\n",
       "    <tr style=\"text-align: right;\">\n",
       "      <th></th>\n",
       "      <th>lat</th>\n",
       "      <th>lon</th>\n",
       "      <th>ACCESS-CM2-ssp126</th>\n",
       "      <th>ACCESS-CM2-ssp245</th>\n",
       "      <th>ACCESS-CM2-ssp370</th>\n",
       "      <th>ACCESS-CM2-ssp585</th>\n",
       "      <th>ACCESS-ESM-ssp126</th>\n",
       "      <th>ACCESS-ESM-ssp245</th>\n",
       "      <th>ACCESS-ESM-ssp370</th>\n",
       "      <th>ACCESS-ESM-ssp585</th>\n",
       "      <th>...</th>\n",
       "      <th>INM-CM5-0-ssp585</th>\n",
       "      <th>KACE-1-0-G-ssp126</th>\n",
       "      <th>KACE-1-0-G-ssp245</th>\n",
       "      <th>KACE-1-0-G-ssp370</th>\n",
       "      <th>KACE-1-0-G-ssp585</th>\n",
       "      <th>MIROC-ES2L-ssp126</th>\n",
       "      <th>MIROC-ES2L-ssp245</th>\n",
       "      <th>MIROC-ES2L-ssp370</th>\n",
       "      <th>MIROC-ES2L-ssp585</th>\n",
       "      <th>fahrenheit</th>\n",
       "    </tr>\n",
       "  </thead>\n",
       "  <tbody>\n",
       "    <tr>\n",
       "      <th>0</th>\n",
       "      <td>35.0</td>\n",
       "      <td>-83.5</td>\n",
       "      <td>-6.727468</td>\n",
       "      <td>-5.954944</td>\n",
       "      <td>-5.796958</td>\n",
       "      <td>-6.598390</td>\n",
       "      <td>32.335340</td>\n",
       "      <td>32.701280</td>\n",
       "      <td>32.623520</td>\n",
       "      <td>32.840384</td>\n",
       "      <td>...</td>\n",
       "      <td>26.492360</td>\n",
       "      <td>40.921664</td>\n",
       "      <td>42.236960</td>\n",
       "      <td>41.167940</td>\n",
       "      <td>41.224388</td>\n",
       "      <td>15.588446</td>\n",
       "      <td>15.591308</td>\n",
       "      <td>12.782480</td>\n",
       "      <td>16.107224</td>\n",
       "      <td>25.106024</td>\n",
       "    </tr>\n",
       "    <tr>\n",
       "      <th>1</th>\n",
       "      <td>35.0</td>\n",
       "      <td>-83.5</td>\n",
       "      <td>-2.186050</td>\n",
       "      <td>-0.223744</td>\n",
       "      <td>0.212036</td>\n",
       "      <td>-2.151724</td>\n",
       "      <td>18.378806</td>\n",
       "      <td>17.057300</td>\n",
       "      <td>17.166740</td>\n",
       "      <td>17.520836</td>\n",
       "      <td>...</td>\n",
       "      <td>39.204320</td>\n",
       "      <td>46.542308</td>\n",
       "      <td>47.175674</td>\n",
       "      <td>46.968044</td>\n",
       "      <td>46.856120</td>\n",
       "      <td>17.607020</td>\n",
       "      <td>18.980690</td>\n",
       "      <td>16.401920</td>\n",
       "      <td>16.472192</td>\n",
       "      <td>38.173987</td>\n",
       "    </tr>\n",
       "    <tr>\n",
       "      <th>2</th>\n",
       "      <td>35.0</td>\n",
       "      <td>-83.5</td>\n",
       "      <td>21.224372</td>\n",
       "      <td>22.278074</td>\n",
       "      <td>23.579510</td>\n",
       "      <td>21.459434</td>\n",
       "      <td>19.886630</td>\n",
       "      <td>18.609530</td>\n",
       "      <td>19.436468</td>\n",
       "      <td>19.189994</td>\n",
       "      <td>...</td>\n",
       "      <td>54.353660</td>\n",
       "      <td>53.848400</td>\n",
       "      <td>52.076120</td>\n",
       "      <td>52.830500</td>\n",
       "      <td>52.528874</td>\n",
       "      <td>22.374590</td>\n",
       "      <td>23.100800</td>\n",
       "      <td>19.604840</td>\n",
       "      <td>20.235380</td>\n",
       "      <td>43.988007</td>\n",
       "    </tr>\n",
       "    <tr>\n",
       "      <th>3</th>\n",
       "      <td>35.0</td>\n",
       "      <td>-83.5</td>\n",
       "      <td>32.588474</td>\n",
       "      <td>30.693326</td>\n",
       "      <td>31.939016</td>\n",
       "      <td>32.530910</td>\n",
       "      <td>15.498968</td>\n",
       "      <td>15.799226</td>\n",
       "      <td>15.751094</td>\n",
       "      <td>16.176488</td>\n",
       "      <td>...</td>\n",
       "      <td>25.531016</td>\n",
       "      <td>38.362460</td>\n",
       "      <td>40.035992</td>\n",
       "      <td>38.009012</td>\n",
       "      <td>37.671620</td>\n",
       "      <td>25.817756</td>\n",
       "      <td>26.288366</td>\n",
       "      <td>23.728046</td>\n",
       "      <td>23.892692</td>\n",
       "      <td>44.257996</td>\n",
       "    </tr>\n",
       "    <tr>\n",
       "      <th>4</th>\n",
       "      <td>35.0</td>\n",
       "      <td>-83.5</td>\n",
       "      <td>29.976314</td>\n",
       "      <td>30.989912</td>\n",
       "      <td>30.634520</td>\n",
       "      <td>30.646400</td>\n",
       "      <td>17.372354</td>\n",
       "      <td>18.569750</td>\n",
       "      <td>17.429000</td>\n",
       "      <td>17.513636</td>\n",
       "      <td>...</td>\n",
       "      <td>22.325360</td>\n",
       "      <td>33.139868</td>\n",
       "      <td>31.896230</td>\n",
       "      <td>29.169914</td>\n",
       "      <td>28.871636</td>\n",
       "      <td>16.823030</td>\n",
       "      <td>16.853630</td>\n",
       "      <td>16.170836</td>\n",
       "      <td>16.364624</td>\n",
       "      <td>26.923987</td>\n",
       "    </tr>\n",
       "  </tbody>\n",
       "</table>\n",
       "<p>5 rows × 63 columns</p>\n",
       "</div>"
      ],
      "text/plain": [
       "    lat   lon  ACCESS-CM2-ssp126  ACCESS-CM2-ssp245  ACCESS-CM2-ssp370  \\\n",
       "0  35.0 -83.5          -6.727468          -5.954944          -5.796958   \n",
       "1  35.0 -83.5          -2.186050          -0.223744           0.212036   \n",
       "2  35.0 -83.5          21.224372          22.278074          23.579510   \n",
       "3  35.0 -83.5          32.588474          30.693326          31.939016   \n",
       "4  35.0 -83.5          29.976314          30.989912          30.634520   \n",
       "\n",
       "   ACCESS-CM2-ssp585  ACCESS-ESM-ssp126  ACCESS-ESM-ssp245  ACCESS-ESM-ssp370  \\\n",
       "0          -6.598390          32.335340          32.701280          32.623520   \n",
       "1          -2.151724          18.378806          17.057300          17.166740   \n",
       "2          21.459434          19.886630          18.609530          19.436468   \n",
       "3          32.530910          15.498968          15.799226          15.751094   \n",
       "4          30.646400          17.372354          18.569750          17.429000   \n",
       "\n",
       "   ACCESS-ESM-ssp585  ...  INM-CM5-0-ssp585  KACE-1-0-G-ssp126  \\\n",
       "0          32.840384  ...         26.492360          40.921664   \n",
       "1          17.520836  ...         39.204320          46.542308   \n",
       "2          19.189994  ...         54.353660          53.848400   \n",
       "3          16.176488  ...         25.531016          38.362460   \n",
       "4          17.513636  ...         22.325360          33.139868   \n",
       "\n",
       "   KACE-1-0-G-ssp245  KACE-1-0-G-ssp370  KACE-1-0-G-ssp585  MIROC-ES2L-ssp126  \\\n",
       "0          42.236960          41.167940          41.224388          15.588446   \n",
       "1          47.175674          46.968044          46.856120          17.607020   \n",
       "2          52.076120          52.830500          52.528874          22.374590   \n",
       "3          40.035992          38.009012          37.671620          25.817756   \n",
       "4          31.896230          29.169914          28.871636          16.823030   \n",
       "\n",
       "   MIROC-ES2L-ssp245  MIROC-ES2L-ssp370  MIROC-ES2L-ssp585  fahrenheit  \n",
       "0          15.591308          12.782480          16.107224   25.106024  \n",
       "1          18.980690          16.401920          16.472192   38.173987  \n",
       "2          23.100800          19.604840          20.235380   43.988007  \n",
       "3          26.288366          23.728046          23.892692   44.257996  \n",
       "4          16.853630          16.170836          16.364624   26.923987  \n",
       "\n",
       "[5 rows x 63 columns]"
      ]
     },
     "execution_count": 15,
     "metadata": {},
     "output_type": "execute_result"
    }
   ],
   "source": [
    "df.head()"
   ]
  },
  {
   "cell_type": "code",
   "execution_count": 45,
   "id": "7ad5fb58-3774-44cc-87a9-8e0b102763b3",
   "metadata": {},
   "outputs": [],
   "source": [
    "X = df.iloc[:, 2:-1]\n",
    "y = df.iloc[:, -1]\n",
    "location = df.iloc[:, :2]\n",
    "model_scenario = X.columns"
   ]
  },
  {
   "cell_type": "code",
   "execution_count": 40,
   "id": "46968202-c3a1-40c6-9ba5-e2ef29b58260",
   "metadata": {},
   "outputs": [
    {
     "name": "stdout",
     "output_type": "stream",
     "text": [
      "Baseline MAPE: 0.37\n",
      "Baseline R2: 0.69\n"
     ]
    }
   ],
   "source": [
    "# Baseline error averaging across models and scenarios\n",
    "baseline_mape = mean_absolute_percentage_error(y, X.mean(axis=1))\n",
    "baseline_r2 = r2_score(y, X.mean(axis=1))\n",
    "print('Baseline MAPE:', f'{baseline_mape.round(2)}')\n",
    "print('Baseline R2:', f'{baseline_r2.round(2)}')"
   ]
  },
  {
   "cell_type": "code",
   "execution_count": 41,
   "id": "51075f1a-288e-4458-ab44-40cc1adfbb53",
   "metadata": {},
   "outputs": [],
   "source": [
    "ols = LinearRegression().fit(X, y)"
   ]
  },
  {
   "cell_type": "code",
   "execution_count": 42,
   "id": "00332bad-bc96-4051-a4d0-b11bf886780b",
   "metadata": {},
   "outputs": [
    {
     "data": {
      "text/plain": [
       "0.7379795206383544"
      ]
     },
     "execution_count": 42,
     "metadata": {},
     "output_type": "execute_result"
    }
   ],
   "source": [
    "ols.score(X, y)"
   ]
  },
  {
   "cell_type": "code",
   "execution_count": 56,
   "id": "1abffa58-c09d-498c-bc73-c07419cd7dd8",
   "metadata": {},
   "outputs": [
    {
     "data": {
      "text/html": [
       "<div>\n",
       "<style scoped>\n",
       "    .dataframe tbody tr th:only-of-type {\n",
       "        vertical-align: middle;\n",
       "    }\n",
       "\n",
       "    .dataframe tbody tr th {\n",
       "        vertical-align: top;\n",
       "    }\n",
       "\n",
       "    .dataframe thead th {\n",
       "        text-align: right;\n",
       "    }\n",
       "</style>\n",
       "<table border=\"1\" class=\"dataframe\">\n",
       "  <thead>\n",
       "    <tr style=\"text-align: right;\">\n",
       "      <th></th>\n",
       "      <th>coefficient</th>\n",
       "    </tr>\n",
       "  </thead>\n",
       "  <tbody>\n",
       "    <tr>\n",
       "      <th>KACE-1-0-G-ssp245</th>\n",
       "      <td>0.074144</td>\n",
       "    </tr>\n",
       "    <tr>\n",
       "      <th>CanESM5-ssp370</th>\n",
       "      <td>0.056196</td>\n",
       "    </tr>\n",
       "    <tr>\n",
       "      <th>CNRM-CM6-1-ssp126</th>\n",
       "      <td>0.054242</td>\n",
       "    </tr>\n",
       "    <tr>\n",
       "      <th>ACCESS-CM2-ssp126</th>\n",
       "      <td>0.052297</td>\n",
       "    </tr>\n",
       "    <tr>\n",
       "      <th>CNRM-CM6-1-ssp245</th>\n",
       "      <td>0.051781</td>\n",
       "    </tr>\n",
       "  </tbody>\n",
       "</table>\n",
       "</div>"
      ],
      "text/plain": [
       "                   coefficient\n",
       "KACE-1-0-G-ssp245     0.074144\n",
       "CanESM5-ssp370        0.056196\n",
       "CNRM-CM6-1-ssp126     0.054242\n",
       "ACCESS-CM2-ssp126     0.052297\n",
       "CNRM-CM6-1-ssp245     0.051781"
      ]
     },
     "execution_count": 56,
     "metadata": {},
     "output_type": "execute_result"
    }
   ],
   "source": [
    "pd.DataFrame(data=ols.coef_, index=model_scenario, columns=['coefficient']).sort_values('coefficient', ascending=False).head()"
   ]
  },
  {
   "cell_type": "code",
   "execution_count": 60,
   "id": "ec115723-ede6-4428-8fb3-8838d85aff6a",
   "metadata": {},
   "outputs": [],
   "source": [
    "ridge = Ridge(alpha=0.5).fit(X, y)"
   ]
  },
  {
   "cell_type": "code",
   "execution_count": 61,
   "id": "47ffbc1a-b079-49e5-9505-a9b3db80308e",
   "metadata": {},
   "outputs": [
    {
     "data": {
      "text/plain": [
       "0.7379795206383541"
      ]
     },
     "execution_count": 61,
     "metadata": {},
     "output_type": "execute_result"
    }
   ],
   "source": [
    "ridge.score(X, y)"
   ]
  },
  {
   "cell_type": "code",
   "execution_count": 62,
   "id": "0737bdcc-edf1-4e10-a2dd-e7e515bf40b9",
   "metadata": {},
   "outputs": [
    {
     "data": {
      "text/html": [
       "<div>\n",
       "<style scoped>\n",
       "    .dataframe tbody tr th:only-of-type {\n",
       "        vertical-align: middle;\n",
       "    }\n",
       "\n",
       "    .dataframe tbody tr th {\n",
       "        vertical-align: top;\n",
       "    }\n",
       "\n",
       "    .dataframe thead th {\n",
       "        text-align: right;\n",
       "    }\n",
       "</style>\n",
       "<table border=\"1\" class=\"dataframe\">\n",
       "  <thead>\n",
       "    <tr style=\"text-align: right;\">\n",
       "      <th></th>\n",
       "      <th>coefficient</th>\n",
       "    </tr>\n",
       "  </thead>\n",
       "  <tbody>\n",
       "    <tr>\n",
       "      <th>KACE-1-0-G-ssp245</th>\n",
       "      <td>0.074144</td>\n",
       "    </tr>\n",
       "    <tr>\n",
       "      <th>CanESM5-ssp370</th>\n",
       "      <td>0.056196</td>\n",
       "    </tr>\n",
       "    <tr>\n",
       "      <th>CNRM-CM6-1-ssp126</th>\n",
       "      <td>0.054242</td>\n",
       "    </tr>\n",
       "    <tr>\n",
       "      <th>ACCESS-CM2-ssp126</th>\n",
       "      <td>0.052297</td>\n",
       "    </tr>\n",
       "    <tr>\n",
       "      <th>CNRM-CM6-1-ssp245</th>\n",
       "      <td>0.051781</td>\n",
       "    </tr>\n",
       "  </tbody>\n",
       "</table>\n",
       "</div>"
      ],
      "text/plain": [
       "                   coefficient\n",
       "KACE-1-0-G-ssp245     0.074144\n",
       "CanESM5-ssp370        0.056196\n",
       "CNRM-CM6-1-ssp126     0.054242\n",
       "ACCESS-CM2-ssp126     0.052297\n",
       "CNRM-CM6-1-ssp245     0.051781"
      ]
     },
     "execution_count": 62,
     "metadata": {},
     "output_type": "execute_result"
    }
   ],
   "source": [
    "pd.DataFrame(data=ridge.coef_, index=model_scenario, columns=['coefficient']).sort_values('coefficient', ascending=False).head()"
   ]
  },
  {
   "cell_type": "code",
   "execution_count": null,
   "id": "16fb7134-d0cd-4f2a-93f0-881c82c2a028",
   "metadata": {},
   "outputs": [],
   "source": []
  }
 ],
 "metadata": {
  "kernelspec": {
   "display_name": "Python3 (capstone)",
   "language": "python",
   "name": "capstone"
  },
  "language_info": {
   "codemirror_mode": {
    "name": "ipython",
    "version": 3
   },
   "file_extension": ".py",
   "mimetype": "text/x-python",
   "name": "python",
   "nbconvert_exporter": "python",
   "pygments_lexer": "ipython3",
   "version": "3.10.13"
  }
 },
 "nbformat": 4,
 "nbformat_minor": 5
}
