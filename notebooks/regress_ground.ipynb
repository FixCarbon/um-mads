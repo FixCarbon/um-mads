{
 "cells": [
  {
   "cell_type": "markdown",
   "id": "6ea01c32-0357-4ef6-9a9f-86f50e433112",
   "metadata": {},
   "source": [
    "# Linear Regression Attempt"
   ]
  },
  {
   "cell_type": "code",
   "execution_count": 29,
   "id": "fe052875-ddbd-4c5a-a06d-8ff8965c5654",
   "metadata": {},
   "outputs": [],
   "source": [
    "import sys\n",
    "\n",
    "import xarray as xr\n",
    "import pandas as pd\n",
    "import numpy as np\n",
    "\n",
    "from sklearn.compose import ColumnTransformer\n",
    "from sklearn.preprocessing import OneHotEncoder, StandardScaler\n",
    "# from sklearn.pipeline import Pipeline\n",
    "from sklearn.linear_model import LinearRegression"
   ]
  },
  {
   "cell_type": "code",
   "execution_count": 2,
   "id": "62032fe9-0790-40da-8b93-513aa79680d5",
   "metadata": {},
   "outputs": [],
   "source": [
    "train_path = '../data/train/train_east_tasmin_CMIP6_projections.parquet'\n",
    "val_path =  '../data/val/val_east_tasmin_CMIP6_projections.csv'"
   ]
  },
  {
   "cell_type": "code",
   "execution_count": 3,
   "id": "cd2147a1-bedc-4872-bbd9-c7a2e77c2d05",
   "metadata": {},
   "outputs": [],
   "source": [
    "train_df = pd.read_parquet(train_path)\n",
    "val_df = pd.read_csv(val_path,index_col=0)"
   ]
  },
  {
   "cell_type": "code",
   "execution_count": 4,
   "id": "d3b7c167-8173-46f7-8100-d7c34304d1bd",
   "metadata": {},
   "outputs": [],
   "source": [
    "# some quick fixes for the dfs\n",
    "train_df = train_df.rename({'tsmin_df':'tasmin'},axis=1)"
   ]
  },
  {
   "cell_type": "code",
   "execution_count": 5,
   "id": "e2d49875-4625-4d7c-a16e-3c4b8a6347d3",
   "metadata": {},
   "outputs": [
    {
     "data": {
      "text/html": [
       "<div>\n",
       "<style scoped>\n",
       "    .dataframe tbody tr th:only-of-type {\n",
       "        vertical-align: middle;\n",
       "    }\n",
       "\n",
       "    .dataframe tbody tr th {\n",
       "        vertical-align: top;\n",
       "    }\n",
       "\n",
       "    .dataframe thead th {\n",
       "        text-align: right;\n",
       "    }\n",
       "</style>\n",
       "<table border=\"1\" class=\"dataframe\">\n",
       "  <thead>\n",
       "    <tr style=\"text-align: right;\">\n",
       "      <th></th>\n",
       "      <th>model</th>\n",
       "      <th>scenario</th>\n",
       "      <th>lat</th>\n",
       "      <th>lon</th>\n",
       "      <th>time</th>\n",
       "      <th>spatial_ref</th>\n",
       "      <th>tasmin</th>\n",
       "    </tr>\n",
       "  </thead>\n",
       "  <tbody>\n",
       "    <tr>\n",
       "      <th>0</th>\n",
       "      <td>ACCESS-CM2</td>\n",
       "      <td>ssp126</td>\n",
       "      <td>35.125</td>\n",
       "      <td>-83.625</td>\n",
       "      <td>2015-01-01 12:00:00</td>\n",
       "      <td>0</td>\n",
       "      <td>251.63474</td>\n",
       "    </tr>\n",
       "    <tr>\n",
       "      <th>1</th>\n",
       "      <td>ACCESS-CM2</td>\n",
       "      <td>ssp126</td>\n",
       "      <td>35.125</td>\n",
       "      <td>-83.375</td>\n",
       "      <td>2015-01-01 12:00:00</td>\n",
       "      <td>0</td>\n",
       "      <td>252.66750</td>\n",
       "    </tr>\n",
       "    <tr>\n",
       "      <th>2</th>\n",
       "      <td>ACCESS-CM2</td>\n",
       "      <td>ssp126</td>\n",
       "      <td>35.125</td>\n",
       "      <td>-83.125</td>\n",
       "      <td>2015-01-01 12:00:00</td>\n",
       "      <td>0</td>\n",
       "      <td>251.19670</td>\n",
       "    </tr>\n",
       "    <tr>\n",
       "      <th>3</th>\n",
       "      <td>ACCESS-CM2</td>\n",
       "      <td>ssp126</td>\n",
       "      <td>35.375</td>\n",
       "      <td>-83.375</td>\n",
       "      <td>2015-01-01 12:00:00</td>\n",
       "      <td>0</td>\n",
       "      <td>251.56654</td>\n",
       "    </tr>\n",
       "    <tr>\n",
       "      <th>4</th>\n",
       "      <td>ACCESS-CM2</td>\n",
       "      <td>ssp126</td>\n",
       "      <td>35.375</td>\n",
       "      <td>-83.125</td>\n",
       "      <td>2015-01-01 12:00:00</td>\n",
       "      <td>0</td>\n",
       "      <td>249.87247</td>\n",
       "    </tr>\n",
       "  </tbody>\n",
       "</table>\n",
       "</div>"
      ],
      "text/plain": [
       "        model scenario     lat     lon                 time  spatial_ref  \\\n",
       "0  ACCESS-CM2   ssp126  35.125 -83.625  2015-01-01 12:00:00            0   \n",
       "1  ACCESS-CM2   ssp126  35.125 -83.375  2015-01-01 12:00:00            0   \n",
       "2  ACCESS-CM2   ssp126  35.125 -83.125  2015-01-01 12:00:00            0   \n",
       "3  ACCESS-CM2   ssp126  35.375 -83.375  2015-01-01 12:00:00            0   \n",
       "4  ACCESS-CM2   ssp126  35.375 -83.125  2015-01-01 12:00:00            0   \n",
       "\n",
       "      tasmin  \n",
       "0  251.63474  \n",
       "1  252.66750  \n",
       "2  251.19670  \n",
       "3  251.56654  \n",
       "4  249.87247  "
      ]
     },
     "execution_count": 5,
     "metadata": {},
     "output_type": "execute_result"
    }
   ],
   "source": [
    "train_df.head()"
   ]
  },
  {
   "cell_type": "code",
   "execution_count": 6,
   "id": "5235d2ee-d02f-43a7-95b9-b05284ae5c28",
   "metadata": {},
   "outputs": [
    {
     "data": {
      "text/html": [
       "<div>\n",
       "<style scoped>\n",
       "    .dataframe tbody tr th:only-of-type {\n",
       "        vertical-align: middle;\n",
       "    }\n",
       "\n",
       "    .dataframe tbody tr th {\n",
       "        vertical-align: top;\n",
       "    }\n",
       "\n",
       "    .dataframe thead th {\n",
       "        text-align: right;\n",
       "    }\n",
       "</style>\n",
       "<table border=\"1\" class=\"dataframe\">\n",
       "  <thead>\n",
       "    <tr style=\"text-align: right;\">\n",
       "      <th></th>\n",
       "      <th>lat</th>\n",
       "      <th>model</th>\n",
       "      <th>scenario</th>\n",
       "      <th>time</th>\n",
       "      <th>lon</th>\n",
       "      <th>spatial_ref</th>\n",
       "      <th>tasmin</th>\n",
       "    </tr>\n",
       "  </thead>\n",
       "  <tbody>\n",
       "    <tr>\n",
       "      <th>0</th>\n",
       "      <td>35.125</td>\n",
       "      <td>ACCESS-CM2</td>\n",
       "      <td>ssp126</td>\n",
       "      <td>2022-01-01 12:00:00</td>\n",
       "      <td>-83.625</td>\n",
       "      <td>0</td>\n",
       "      <td>270.24707</td>\n",
       "    </tr>\n",
       "    <tr>\n",
       "      <th>1</th>\n",
       "      <td>35.125</td>\n",
       "      <td>ACCESS-CM2</td>\n",
       "      <td>ssp126</td>\n",
       "      <td>2022-01-01 12:00:00</td>\n",
       "      <td>-83.375</td>\n",
       "      <td>0</td>\n",
       "      <td>271.58322</td>\n",
       "    </tr>\n",
       "    <tr>\n",
       "      <th>2</th>\n",
       "      <td>35.125</td>\n",
       "      <td>ACCESS-CM2</td>\n",
       "      <td>ssp126</td>\n",
       "      <td>2022-01-01 12:00:00</td>\n",
       "      <td>-83.125</td>\n",
       "      <td>0</td>\n",
       "      <td>270.10090</td>\n",
       "    </tr>\n",
       "    <tr>\n",
       "      <th>25</th>\n",
       "      <td>35.125</td>\n",
       "      <td>ACCESS-CM2</td>\n",
       "      <td>ssp126</td>\n",
       "      <td>2022-01-02 12:00:00</td>\n",
       "      <td>-83.625</td>\n",
       "      <td>0</td>\n",
       "      <td>269.40863</td>\n",
       "    </tr>\n",
       "    <tr>\n",
       "      <th>26</th>\n",
       "      <td>35.125</td>\n",
       "      <td>ACCESS-CM2</td>\n",
       "      <td>ssp126</td>\n",
       "      <td>2022-01-02 12:00:00</td>\n",
       "      <td>-83.375</td>\n",
       "      <td>0</td>\n",
       "      <td>270.45610</td>\n",
       "    </tr>\n",
       "  </tbody>\n",
       "</table>\n",
       "</div>"
      ],
      "text/plain": [
       "       lat       model scenario                 time     lon  spatial_ref  \\\n",
       "0   35.125  ACCESS-CM2   ssp126  2022-01-01 12:00:00 -83.625            0   \n",
       "1   35.125  ACCESS-CM2   ssp126  2022-01-01 12:00:00 -83.375            0   \n",
       "2   35.125  ACCESS-CM2   ssp126  2022-01-01 12:00:00 -83.125            0   \n",
       "25  35.125  ACCESS-CM2   ssp126  2022-01-02 12:00:00 -83.625            0   \n",
       "26  35.125  ACCESS-CM2   ssp126  2022-01-02 12:00:00 -83.375            0   \n",
       "\n",
       "       tasmin  \n",
       "0   270.24707  \n",
       "1   271.58322  \n",
       "2   270.10090  \n",
       "25  269.40863  \n",
       "26  270.45610  "
      ]
     },
     "execution_count": 6,
     "metadata": {},
     "output_type": "execute_result"
    }
   ],
   "source": [
    "val_df.head()"
   ]
  },
  {
   "cell_type": "code",
   "execution_count": 7,
   "id": "ab4c7451-1f82-48b5-833d-8dc950c0f404",
   "metadata": {},
   "outputs": [
    {
     "data": {
      "text/html": [
       "<div>\n",
       "<style scoped>\n",
       "    .dataframe tbody tr th:only-of-type {\n",
       "        vertical-align: middle;\n",
       "    }\n",
       "\n",
       "    .dataframe tbody tr th {\n",
       "        vertical-align: top;\n",
       "    }\n",
       "\n",
       "    .dataframe thead th {\n",
       "        text-align: right;\n",
       "    }\n",
       "</style>\n",
       "<table border=\"1\" class=\"dataframe\">\n",
       "  <thead>\n",
       "    <tr style=\"text-align: right;\">\n",
       "      <th></th>\n",
       "      <th>lat</th>\n",
       "      <th>lon</th>\n",
       "      <th>spatial_ref</th>\n",
       "      <th>tasmin</th>\n",
       "    </tr>\n",
       "  </thead>\n",
       "  <tbody>\n",
       "    <tr>\n",
       "      <th>count</th>\n",
       "      <td>2.289314e+07</td>\n",
       "      <td>2.289314e+07</td>\n",
       "      <td>22893136.0</td>\n",
       "      <td>2.289314e+07</td>\n",
       "    </tr>\n",
       "    <tr>\n",
       "      <th>mean</th>\n",
       "      <td>3.737967e+01</td>\n",
       "      <td>-8.000206e+01</td>\n",
       "      <td>0.0</td>\n",
       "      <td>1.859745e+02</td>\n",
       "    </tr>\n",
       "    <tr>\n",
       "      <th>std</th>\n",
       "      <td>1.293378e+00</td>\n",
       "      <td>1.564687e+00</td>\n",
       "      <td>0.0</td>\n",
       "      <td>1.330480e+02</td>\n",
       "    </tr>\n",
       "    <tr>\n",
       "      <th>min</th>\n",
       "      <td>3.512500e+01</td>\n",
       "      <td>-8.362500e+01</td>\n",
       "      <td>0.0</td>\n",
       "      <td>0.000000e+00</td>\n",
       "    </tr>\n",
       "    <tr>\n",
       "      <th>25%</th>\n",
       "      <td>3.637500e+01</td>\n",
       "      <td>-8.112500e+01</td>\n",
       "      <td>0.0</td>\n",
       "      <td>0.000000e+00</td>\n",
       "    </tr>\n",
       "    <tr>\n",
       "      <th>50%</th>\n",
       "      <td>3.762500e+01</td>\n",
       "      <td>-7.962500e+01</td>\n",
       "      <td>0.0</td>\n",
       "      <td>2.730379e+02</td>\n",
       "    </tr>\n",
       "    <tr>\n",
       "      <th>75%</th>\n",
       "      <td>3.862500e+01</td>\n",
       "      <td>-7.887500e+01</td>\n",
       "      <td>0.0</td>\n",
       "      <td>2.853169e+02</td>\n",
       "    </tr>\n",
       "    <tr>\n",
       "      <th>max</th>\n",
       "      <td>3.962500e+01</td>\n",
       "      <td>-7.762500e+01</td>\n",
       "      <td>0.0</td>\n",
       "      <td>3.084099e+02</td>\n",
       "    </tr>\n",
       "  </tbody>\n",
       "</table>\n",
       "</div>"
      ],
      "text/plain": [
       "                lat           lon  spatial_ref        tasmin\n",
       "count  2.289314e+07  2.289314e+07   22893136.0  2.289314e+07\n",
       "mean   3.737967e+01 -8.000206e+01          0.0  1.859745e+02\n",
       "std    1.293378e+00  1.564687e+00          0.0  1.330480e+02\n",
       "min    3.512500e+01 -8.362500e+01          0.0  0.000000e+00\n",
       "25%    3.637500e+01 -8.112500e+01          0.0  0.000000e+00\n",
       "50%    3.762500e+01 -7.962500e+01          0.0  2.730379e+02\n",
       "75%    3.862500e+01 -7.887500e+01          0.0  2.853169e+02\n",
       "max    3.962500e+01 -7.762500e+01          0.0  3.084099e+02"
      ]
     },
     "execution_count": 7,
     "metadata": {},
     "output_type": "execute_result"
    }
   ],
   "source": [
    "train_df.describe()"
   ]
  },
  {
   "cell_type": "code",
   "execution_count": 9,
   "id": "c745ea71-6fd8-43de-a40d-9f9c8332efcc",
   "metadata": {},
   "outputs": [
    {
     "data": {
      "text/plain": [
       "array(['ACCESS-CM2', 'ACCESS-ESM', 'CMCC-ESM2', 'CNRM-CM6-1',\n",
       "       'CNRM-ESM2-', 'CanESM5', 'EC-Earth3', 'EC-Earth3-', 'FGOALS-g3',\n",
       "       'GFDL-ESM4', 'GISS-E2-1-', 'INM-CM4-8', 'INM-CM5-0', 'KACE-1-0-G',\n",
       "       'MIROC-ES2L', 'MRI-ESM2-0', 'NorESM2-LM', 'NorESM2-MM', 'TaiESM1',\n",
       "       'UKESM1-0-L'], dtype=object)"
      ]
     },
     "execution_count": 9,
     "metadata": {},
     "output_type": "execute_result"
    }
   ],
   "source": [
    "train_df['model'].unique()"
   ]
  },
  {
   "cell_type": "code",
   "execution_count": 38,
   "id": "78636a6f-fb58-4043-990f-4347de9da4af",
   "metadata": {},
   "outputs": [],
   "source": [
    "def groupby_model(df):\n",
    "    \"\"\"Process the train and val dfs for encoding as input into ML methods\n",
    "    \n",
    "    Arg: df (DataFrame) of tasmin from NEX-GDDP-CMIP6 data\n",
    "    Output: DataFrame grouped by model and scenario, compressing the entire polygon\n",
    "    \"\"\"\n",
    "    # Some quick transforms\n",
    "    df['tasmin']=df['tasmin'].replace({0:np.nan}) # 0K is absolute zero and assumed invalid input\n",
    "    df['time']=pd.to_datetime(df['time']).dt.date # Only need date\n",
    "    grouped = df.groupby(['scenario','model','time'])['tasmin'].min().reset_index() #Min is more efficient. Searching the whole area\n",
    "    #make new categorial value\n",
    "    grouped['model_sc']=grouped['scenario']+'_'+grouped['model']\n",
    "    #make time a datetime feature\n",
    "    grouped = grouped.set_index('time')\n",
    "    return grouped"
   ]
  },
  {
   "cell_type": "code",
   "execution_count": 39,
   "id": "4af024e2-ccfb-4766-bced-03c70b7e4cc0",
   "metadata": {},
   "outputs": [
    {
     "data": {
      "text/html": [
       "<div>\n",
       "<style scoped>\n",
       "    .dataframe tbody tr th:only-of-type {\n",
       "        vertical-align: middle;\n",
       "    }\n",
       "\n",
       "    .dataframe tbody tr th {\n",
       "        vertical-align: top;\n",
       "    }\n",
       "\n",
       "    .dataframe thead th {\n",
       "        text-align: right;\n",
       "    }\n",
       "</style>\n",
       "<table border=\"1\" class=\"dataframe\">\n",
       "  <thead>\n",
       "    <tr style=\"text-align: right;\">\n",
       "      <th></th>\n",
       "      <th>scenario</th>\n",
       "      <th>model</th>\n",
       "      <th>tasmin</th>\n",
       "      <th>model_sc</th>\n",
       "    </tr>\n",
       "    <tr>\n",
       "      <th>time</th>\n",
       "      <th></th>\n",
       "      <th></th>\n",
       "      <th></th>\n",
       "      <th></th>\n",
       "    </tr>\n",
       "  </thead>\n",
       "  <tbody>\n",
       "    <tr>\n",
       "      <th>2015-01-01</th>\n",
       "      <td>ssp126</td>\n",
       "      <td>ACCESS-CM2</td>\n",
       "      <td>247.46608</td>\n",
       "      <td>ssp126 , ACCESS-CM2</td>\n",
       "    </tr>\n",
       "    <tr>\n",
       "      <th>2015-01-02</th>\n",
       "      <td>ssp126</td>\n",
       "      <td>ACCESS-CM2</td>\n",
       "      <td>248.20949</td>\n",
       "      <td>ssp126 , ACCESS-CM2</td>\n",
       "    </tr>\n",
       "    <tr>\n",
       "      <th>2015-01-03</th>\n",
       "      <td>ssp126</td>\n",
       "      <td>ACCESS-CM2</td>\n",
       "      <td>253.68387</td>\n",
       "      <td>ssp126 , ACCESS-CM2</td>\n",
       "    </tr>\n",
       "    <tr>\n",
       "      <th>2015-01-04</th>\n",
       "      <td>ssp126</td>\n",
       "      <td>ACCESS-CM2</td>\n",
       "      <td>261.12805</td>\n",
       "      <td>ssp126 , ACCESS-CM2</td>\n",
       "    </tr>\n",
       "    <tr>\n",
       "      <th>2015-01-05</th>\n",
       "      <td>ssp126</td>\n",
       "      <td>ACCESS-CM2</td>\n",
       "      <td>266.37738</td>\n",
       "      <td>ssp126 , ACCESS-CM2</td>\n",
       "    </tr>\n",
       "  </tbody>\n",
       "</table>\n",
       "</div>"
      ],
      "text/plain": [
       "           scenario       model     tasmin             model_sc\n",
       "time                                                           \n",
       "2015-01-01   ssp126  ACCESS-CM2  247.46608  ssp126 , ACCESS-CM2\n",
       "2015-01-02   ssp126  ACCESS-CM2  248.20949  ssp126 , ACCESS-CM2\n",
       "2015-01-03   ssp126  ACCESS-CM2  253.68387  ssp126 , ACCESS-CM2\n",
       "2015-01-04   ssp126  ACCESS-CM2  261.12805  ssp126 , ACCESS-CM2\n",
       "2015-01-05   ssp126  ACCESS-CM2  266.37738  ssp126 , ACCESS-CM2"
      ]
     },
     "execution_count": 39,
     "metadata": {},
     "output_type": "execute_result"
    }
   ],
   "source": [
    "train_group = groupby_model(train_df)\n",
    "train_group.head()"
   ]
  },
  {
   "cell_type": "markdown",
   "id": "f5f46e04-a4ed-4175-8022-de06d9611c9b",
   "metadata": {},
   "source": [
    "## Make encoder for train and val data"
   ]
  },
  {
   "cell_type": "code",
   "execution_count": 15,
   "id": "dcfcfeec-45fb-452a-8811-2e5456786977",
   "metadata": {},
   "outputs": [],
   "source": [
    "encoder = OneHotEncoder().fit(train_group)\n",
    "X = encoder.transform(train_group)"
   ]
  },
  {
   "cell_type": "code",
   "execution_count": 22,
   "id": "b5c51e92-0e92-4398-9d22-bbdcc58be6bc",
   "metadata": {},
   "outputs": [
    {
     "data": {
      "text/plain": [
       "array(['scenario_ssp126', 'scenario_ssp245', 'scenario_ssp370', ...,\n",
       "       'tasmin_295.4312', 'tasmin_296.0836', 'tasmin_nan'], dtype=object)"
      ]
     },
     "execution_count": 22,
     "metadata": {},
     "output_type": "execute_result"
    }
   ],
   "source": [
    "encoder.get_feature_names_out()"
   ]
  },
  {
   "cell_type": "markdown",
   "id": "dbf780bf-88c5-46ce-aea5-f44273acba24",
   "metadata": {},
   "source": [
    "Since OneHotEncoder also is tranforming the tasmin data, I will make a ColumnTransformer instead to treat the categorical vs numerical data separately."
   ]
  },
  {
   "cell_type": "code",
   "execution_count": 42,
   "id": "1b91836f-1345-4746-88d8-55fd694d8099",
   "metadata": {},
   "outputs": [],
   "source": [
    "OHE = OneHotEncoder()\n",
    "scaler = StandardScaler()\n",
    "transformer = ColumnTransformer([('model_ssp', OHE, ['model_sc']),\n",
    "                                ('scaled_tasmin', scaler, ['tasmin'])]).fit(train_group)\n",
    "X = transformer.transform(train_group)"
   ]
  },
  {
   "cell_type": "code",
   "execution_count": 43,
   "id": "1b70fa93-e7a3-4bf2-8e88-cc4a4ff58fbf",
   "metadata": {},
   "outputs": [
    {
     "data": {
      "text/plain": [
       "array(['model_ssp__model_sc_ssp126 , ACCESS-CM2',\n",
       "       'model_ssp__model_sc_ssp126 , ACCESS-ESM',\n",
       "       'model_ssp__model_sc_ssp126 , CMCC-ESM2',\n",
       "       'model_ssp__model_sc_ssp126 , CNRM-CM6-1',\n",
       "       'model_ssp__model_sc_ssp126 , CNRM-ESM2-',\n",
       "       'model_ssp__model_sc_ssp126 , CanESM5',\n",
       "       'model_ssp__model_sc_ssp126 , EC-Earth3',\n",
       "       'model_ssp__model_sc_ssp126 , EC-Earth3-',\n",
       "       'model_ssp__model_sc_ssp126 , FGOALS-g3',\n",
       "       'model_ssp__model_sc_ssp126 , GFDL-ESM4',\n",
       "       'model_ssp__model_sc_ssp126 , GISS-E2-1-',\n",
       "       'model_ssp__model_sc_ssp126 , INM-CM4-8',\n",
       "       'model_ssp__model_sc_ssp126 , INM-CM5-0',\n",
       "       'model_ssp__model_sc_ssp126 , KACE-1-0-G',\n",
       "       'model_ssp__model_sc_ssp126 , MIROC-ES2L',\n",
       "       'model_ssp__model_sc_ssp126 , MRI-ESM2-0',\n",
       "       'model_ssp__model_sc_ssp126 , NorESM2-LM',\n",
       "       'model_ssp__model_sc_ssp126 , NorESM2-MM',\n",
       "       'model_ssp__model_sc_ssp126 , TaiESM1',\n",
       "       'model_ssp__model_sc_ssp126 , UKESM1-0-L',\n",
       "       'model_ssp__model_sc_ssp245 , ACCESS-CM2',\n",
       "       'model_ssp__model_sc_ssp245 , ACCESS-ESM',\n",
       "       'model_ssp__model_sc_ssp245 , CMCC-ESM2',\n",
       "       'model_ssp__model_sc_ssp245 , CNRM-CM6-1',\n",
       "       'model_ssp__model_sc_ssp245 , CNRM-ESM2-',\n",
       "       'model_ssp__model_sc_ssp245 , CanESM5',\n",
       "       'model_ssp__model_sc_ssp245 , EC-Earth3',\n",
       "       'model_ssp__model_sc_ssp245 , EC-Earth3-',\n",
       "       'model_ssp__model_sc_ssp245 , FGOALS-g3',\n",
       "       'model_ssp__model_sc_ssp245 , GFDL-ESM4',\n",
       "       'model_ssp__model_sc_ssp245 , GISS-E2-1-',\n",
       "       'model_ssp__model_sc_ssp245 , INM-CM4-8',\n",
       "       'model_ssp__model_sc_ssp245 , INM-CM5-0',\n",
       "       'model_ssp__model_sc_ssp245 , KACE-1-0-G',\n",
       "       'model_ssp__model_sc_ssp245 , MIROC-ES2L',\n",
       "       'model_ssp__model_sc_ssp245 , MRI-ESM2-0',\n",
       "       'model_ssp__model_sc_ssp245 , NorESM2-LM',\n",
       "       'model_ssp__model_sc_ssp245 , NorESM2-MM',\n",
       "       'model_ssp__model_sc_ssp245 , TaiESM1',\n",
       "       'model_ssp__model_sc_ssp245 , UKESM1-0-L',\n",
       "       'model_ssp__model_sc_ssp370 , ACCESS-CM2',\n",
       "       'model_ssp__model_sc_ssp370 , ACCESS-ESM',\n",
       "       'model_ssp__model_sc_ssp370 , CMCC-ESM2',\n",
       "       'model_ssp__model_sc_ssp370 , CNRM-CM6-1',\n",
       "       'model_ssp__model_sc_ssp370 , CNRM-ESM2-',\n",
       "       'model_ssp__model_sc_ssp370 , CanESM5',\n",
       "       'model_ssp__model_sc_ssp370 , EC-Earth3',\n",
       "       'model_ssp__model_sc_ssp370 , EC-Earth3-',\n",
       "       'model_ssp__model_sc_ssp370 , FGOALS-g3',\n",
       "       'model_ssp__model_sc_ssp370 , GFDL-ESM4',\n",
       "       'model_ssp__model_sc_ssp370 , GISS-E2-1-',\n",
       "       'model_ssp__model_sc_ssp370 , INM-CM4-8',\n",
       "       'model_ssp__model_sc_ssp370 , INM-CM5-0',\n",
       "       'model_ssp__model_sc_ssp370 , KACE-1-0-G',\n",
       "       'model_ssp__model_sc_ssp370 , MIROC-ES2L',\n",
       "       'model_ssp__model_sc_ssp370 , MRI-ESM2-0',\n",
       "       'model_ssp__model_sc_ssp370 , NorESM2-LM',\n",
       "       'model_ssp__model_sc_ssp370 , NorESM2-MM',\n",
       "       'model_ssp__model_sc_ssp370 , TaiESM1',\n",
       "       'model_ssp__model_sc_ssp370 , UKESM1-0-L',\n",
       "       'model_ssp__model_sc_ssp585 , ACCESS-CM2',\n",
       "       'model_ssp__model_sc_ssp585 , ACCESS-ESM',\n",
       "       'model_ssp__model_sc_ssp585 , CMCC-ESM2',\n",
       "       'model_ssp__model_sc_ssp585 , CNRM-CM6-1',\n",
       "       'model_ssp__model_sc_ssp585 , CNRM-ESM2-',\n",
       "       'model_ssp__model_sc_ssp585 , CanESM5',\n",
       "       'model_ssp__model_sc_ssp585 , EC-Earth3',\n",
       "       'model_ssp__model_sc_ssp585 , EC-Earth3-',\n",
       "       'model_ssp__model_sc_ssp585 , FGOALS-g3',\n",
       "       'model_ssp__model_sc_ssp585 , GFDL-ESM4',\n",
       "       'model_ssp__model_sc_ssp585 , GISS-E2-1-',\n",
       "       'model_ssp__model_sc_ssp585 , INM-CM4-8',\n",
       "       'model_ssp__model_sc_ssp585 , INM-CM5-0',\n",
       "       'model_ssp__model_sc_ssp585 , KACE-1-0-G',\n",
       "       'model_ssp__model_sc_ssp585 , MIROC-ES2L',\n",
       "       'model_ssp__model_sc_ssp585 , MRI-ESM2-0',\n",
       "       'model_ssp__model_sc_ssp585 , NorESM2-LM',\n",
       "       'model_ssp__model_sc_ssp585 , NorESM2-MM',\n",
       "       'model_ssp__model_sc_ssp585 , TaiESM1',\n",
       "       'model_ssp__model_sc_ssp585 , UKESM1-0-L', 'scaled_tasmin__tasmin'],\n",
       "      dtype=object)"
      ]
     },
     "execution_count": 43,
     "metadata": {},
     "output_type": "execute_result"
    }
   ],
   "source": [
    "transformer.get_feature_names_out()"
   ]
  },
  {
   "cell_type": "code",
   "execution_count": 47,
   "id": "2be9138c-4a60-4a9c-9f17-f2019d8138b1",
   "metadata": {},
   "outputs": [
    {
     "data": {
      "text/plain": [
       "(204544, 81)"
      ]
     },
     "execution_count": 47,
     "metadata": {},
     "output_type": "execute_result"
    }
   ],
   "source": [
    "X.shape"
   ]
  },
  {
   "cell_type": "code",
   "execution_count": null,
   "id": "aa6a947f-7ad1-4641-8ca6-2a43dba075fe",
   "metadata": {},
   "outputs": [],
   "source": []
  }
 ],
 "metadata": {
  "kernelspec": {
   "display_name": "Python 3 (ipykernel)",
   "language": "python",
   "name": "python3"
  },
  "language_info": {
   "codemirror_mode": {
    "name": "ipython",
    "version": 3
   },
   "file_extension": ".py",
   "mimetype": "text/x-python",
   "name": "python",
   "nbconvert_exporter": "python",
   "pygments_lexer": "ipython3",
   "version": "3.11.8"
  }
 },
 "nbformat": 4,
 "nbformat_minor": 5
}
