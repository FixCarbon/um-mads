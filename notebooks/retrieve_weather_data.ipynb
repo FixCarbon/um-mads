{
 "cells": [
  {
   "cell_type": "markdown",
   "id": "c7c20ffc-8f7b-42cd-9521-dab9b50192e1",
   "metadata": {},
   "source": [
    "# Retrieve Weather Data"
   ]
  },
  {
   "cell_type": "markdown",
   "id": "3dc751fa-50c5-448e-829e-20291cacd2da",
   "metadata": {},
   "source": [
    "This notebook contains functions for downloading and saving data from Oikolab, a provider of weather and climate datasets. Information about Oikolab is available at https://oikolab.com/. To access and process this data, users will need Oikolab credentials.\n",
    "\n",
    "To begin, create a hidden.py file with the necessary credentials. An example template is provided below."
   ]
  },
  {
   "cell_type": "markdown",
   "id": "90c39dc5-c76d-4c25-b6b8-6d5a4b5a2fee",
   "metadata": {},
   "source": [
    "import os\n",
    "\n",
    "os.environ['OIKOLAB_API_KEY'] = 'YOUR_OIKOLAB_API_KEY'"
   ]
  },
  {
   "cell_type": "markdown",
   "id": "d660dcce-c977-46c7-976f-e6f87565b345",
   "metadata": {},
   "source": [
    "## Configure Environment"
   ]
  },
  {
   "cell_type": "markdown",
   "id": "78badb6a-dd35-4cf6-9493-ca4f0b2e0a45",
   "metadata": {},
   "source": [
    "This function allows you to access modules saved in other directories."
   ]
  },
  {
   "cell_type": "code",
   "execution_count": 1,
   "id": "e4315b75-5a48-4f51-a86d-573525cc00b1",
   "metadata": {},
   "outputs": [],
   "source": [
    "import sys\n",
    "import os"
   ]
  },
  {
   "cell_type": "code",
   "execution_count": 2,
   "id": "05678459-e61d-495b-b147-033f26413d63",
   "metadata": {},
   "outputs": [],
   "source": [
    "def configure_environment(relative_folderpath):\n",
    "    \"\"\"\n",
    "    Configure the environment path to include the specified relative directory.\n",
    "\n",
    "    Parameters:\n",
    "    - relative_folderpath: The relative path to the directory to be added to the system path.\n",
    "\n",
    "    Returns:\n",
    "    - None\n",
    "    \"\"\"\n",
    "    absolute_folderpath = os.path.abspath(os.path.join(os.getcwd(), relative_folderpath))\n",
    "    sys.path.append(absolute_folderpath)"
   ]
  },
  {
   "cell_type": "code",
   "execution_count": 3,
   "id": "00070e7a-dd58-4c28-bcd9-55568cfb497e",
   "metadata": {},
   "outputs": [],
   "source": [
    "configure_environment('../src')"
   ]
  },
  {
   "cell_type": "markdown",
   "id": "7d550d71-aab9-4051-b3cc-ab1d59dbfd54",
   "metadata": {},
   "source": [
    "## Import Packages"
   ]
  },
  {
   "cell_type": "code",
   "execution_count": 4,
   "id": "535d1ee9-795d-4624-b881-4f0e4e134d0d",
   "metadata": {},
   "outputs": [],
   "source": [
    "import json\n",
    "import geopandas as gpd\n",
    "import numpy as np\n",
    "import matplotlib.pyplot as plt\n",
    "import matplotlib.patches as patches\n",
    "import pandas as pd\n",
    "from pathlib import Path\n",
    "from shapely.geometry import mapping\n",
    "\n",
    "import hidden\n",
    "from era5_weather import WeatherAPI"
   ]
  },
  {
   "cell_type": "markdown",
   "id": "2d9d9a38-75b7-4d5b-8080-37e7177ee406",
   "metadata": {},
   "source": [
    "## Define Functions"
   ]
  },
  {
   "cell_type": "code",
   "execution_count": 5,
   "id": "c46d7e0c-ceb6-45f3-9919-ecc1bc07418b",
   "metadata": {},
   "outputs": [],
   "source": [
    "def load_polygons(folderpath, filename):\n",
    "    \"\"\"\n",
    "    Load a GeoDataFrame from the specified processed directory.\n",
    "\n",
    "    Parameters:\n",
    "    - folderpath (str): The path to the main folder containing the processed subfolder.\n",
    "    - filename (str): The name of the file (with extension) to load from the processed directory.\n",
    "\n",
    "    Returns:\n",
    "    - GeoDataFrame: A GeoDataFrame loaded from the specified file in the processed subfolder.\n",
    "    \"\"\"\n",
    "    # Create a Path object for folderpath to ensure correct path manipulation\n",
    "    folder = Path(folderpath)\n",
    "\n",
    "    # Construct the file path for the processed version of the file\n",
    "    filepath = folder / 'processed' / filename\n",
    "    \n",
    "    # Load and return the GeoDataFrame\n",
    "    return gpd.read_file(str(filepath))"
   ]
  },
  {
   "cell_type": "code",
   "execution_count": 6,
   "id": "3c5634f6-8a0e-4493-a0ca-8a03c65c3775",
   "metadata": {},
   "outputs": [],
   "source": [
    "def plot_bounds(geodataframe):\n",
    "    \"\"\"\n",
    "    Plots polygons in a GeoDataFrame with rectangles drawn around each cluster.\n",
    "\n",
    "    Parameters:\n",
    "    - geodataframe (gpd.GeoDataFrame): The GeoDataFrame containing clusters and their corresponding polygons.\n",
    "\n",
    "    Returns:\n",
    "    - None\n",
    "    \"\"\"\n",
    "    fig, ax = plt.subplots()\n",
    "    \n",
    "    # Plot polygons\n",
    "    geodataframe.plot(ax=ax)\n",
    "\n",
    "    # Iterate over rows and draw rectangles around each cluster\n",
    "    for _, row in geodataframe.iterrows():\n",
    "        polygon = row['geometry']\n",
    "        bbox = polygon.bounds\n",
    "        north = bbox[3]\n",
    "        south = bbox[1]\n",
    "        east = bbox[2]\n",
    "        west = bbox[0]\n",
    "        rect = patches.Rectangle((west, south), east - west, north - south, linewidth=1, edgecolor='r', facecolor='none')\n",
    "        ax.add_patch(rect)\n",
    "\n",
    "    plt.show()"
   ]
  },
  {
   "cell_type": "code",
   "execution_count": 7,
   "id": "4c413566-7843-4864-915e-c82c0d74a7eb",
   "metadata": {},
   "outputs": [],
   "source": [
    "def get_weather_data(geodataframe, folderpath, filename):\n",
    "    \"\"\"\n",
    "    Processes weather data for each polygon in the GeoDataFrame and saves the combined data to a CSV file.\n",
    "    If the file exists, returns the existing data as a DataFrame.\n",
    "\n",
    "    Args:\n",
    "    - geodataframe (gpd.GeoDataFrame): The GeoDataFrame containing polygons.\n",
    "    - folderpath (str): The path to the output folder.\n",
    "    - filename (str): The name of the output file (with extension).\n",
    "\n",
    "    Returns:\n",
    "    - pandas.DataFrame: The combined weather data.\n",
    "    \"\"\"\n",
    "    # Create a Path object for folderpath to ensure correct path manipulation\n",
    "    folder = Path(folderpath)\n",
    "\n",
    "    # Construct the file path for the processed version of the file\n",
    "    filepath = folder / 'raw' / filename\n",
    "    \n",
    "    if os.path.exists(filepath):\n",
    "        df = pd.read_csv(filepath)\n",
    "    else:\n",
    "        df = pd.DataFrame()\n",
    "        for _, row in geodataframe.iterrows():\n",
    "            polygon = row['geometry']\n",
    "            weather = WeatherAPI(polygon)\n",
    "            ds_cluster = weather.get_data()\n",
    "            df_cluster = ds_cluster.to_dataframe()\n",
    "            df = pd.concat([df, df_cluster])\n",
    "\n",
    "        df.reset_index(inplace=True)\n",
    "        df.to_csv(filepath, index=False)\n",
    "        print(f\"Weather data saved to '{filepath}'.\")\n",
    "    \n",
    "    return df"
   ]
  },
  {
   "cell_type": "markdown",
   "id": "d33046f2-caf1-49af-81b0-fefc28bd3cb9",
   "metadata": {},
   "source": [
    "## Execute Functions"
   ]
  },
  {
   "cell_type": "code",
   "execution_count": 8,
   "id": "59f4b030-edee-4a97-8126-439edd5852d6",
   "metadata": {},
   "outputs": [],
   "source": [
    "# Load GeoDataFrame\n",
    "gdf = load_polygons('../data', 'gdf_easternmountain_polygons')"
   ]
  },
  {
   "cell_type": "code",
   "execution_count": 9,
   "id": "b69b442f-041c-4aa3-aea6-4b5b15a04ffc",
   "metadata": {},
   "outputs": [
    {
     "data": {
      "image/png": "[encoded data removed]",
      "text/plain": [
       "<Figure size 640x480 with 1 Axes>"
      ]
     },
     "metadata": {},
     "output_type": "display_data"
    }
   ],
   "source": [
    "# Visualize polygons and bounding boxes\n",
    "plot_bounds(gdf)"
   ]
  },
  {
   "cell_type": "code",
   "execution_count": 10,
   "id": "427d6936-6553-462f-b0d1-3958d0b37c82",
   "metadata": {},
   "outputs": [],
   "source": [
    "# Retrieve weather data, either cached or from Oikolabs\n",
    "df = get_weather_data(gdf, '../data', 'oiko_easternmountain.csv')"
   ]
  },
  {
   "cell_type": "code",
   "execution_count": 11,
   "id": "8da47a64-44b6-4141-800a-b8a022e6f177",
   "metadata": {},
   "outputs": [
    {
     "data": {
      "text/html": [
       "<div>\n",
       "<style scoped>\n",
       "    .dataframe tbody tr th:only-of-type {\n",
       "        vertical-align: middle;\n",
       "    }\n",
       "\n",
       "    .dataframe tbody tr th {\n",
       "        vertical-align: top;\n",
       "    }\n",
       "\n",
       "    .dataframe thead th {\n",
       "        text-align: right;\n",
       "    }\n",
       "</style>\n",
       "<table border=\"1\" class=\"dataframe\">\n",
       "  <thead>\n",
       "    <tr style=\"text-align: right;\">\n",
       "      <th></th>\n",
       "      <th>latitude</th>\n",
       "      <th>longitude</th>\n",
       "      <th>time</th>\n",
       "      <th>temperature</th>\n",
       "    </tr>\n",
       "  </thead>\n",
       "  <tbody>\n",
       "    <tr>\n",
       "      <th>0</th>\n",
       "      <td>36.0</td>\n",
       "      <td>-83.75</td>\n",
       "      <td>2015-01-01</td>\n",
       "      <td>-3.910004</td>\n",
       "    </tr>\n",
       "    <tr>\n",
       "      <th>1</th>\n",
       "      <td>36.0</td>\n",
       "      <td>-83.75</td>\n",
       "      <td>2015-01-02</td>\n",
       "      <td>4.029999</td>\n",
       "    </tr>\n",
       "    <tr>\n",
       "      <th>2</th>\n",
       "      <td>36.0</td>\n",
       "      <td>-83.75</td>\n",
       "      <td>2015-01-03</td>\n",
       "      <td>5.480011</td>\n",
       "    </tr>\n",
       "    <tr>\n",
       "      <th>3</th>\n",
       "      <td>36.0</td>\n",
       "      <td>-83.75</td>\n",
       "      <td>2015-01-04</td>\n",
       "      <td>9.230011</td>\n",
       "    </tr>\n",
       "    <tr>\n",
       "      <th>4</th>\n",
       "      <td>36.0</td>\n",
       "      <td>-83.75</td>\n",
       "      <td>2015-01-05</td>\n",
       "      <td>-2.119995</td>\n",
       "    </tr>\n",
       "  </tbody>\n",
       "</table>\n",
       "</div>"
      ],
      "text/plain": [
       "   latitude  longitude        time  temperature\n",
       "0      36.0     -83.75  2015-01-01    -3.910004\n",
       "1      36.0     -83.75  2015-01-02     4.029999\n",
       "2      36.0     -83.75  2015-01-03     5.480011\n",
       "3      36.0     -83.75  2015-01-04     9.230011\n",
       "4      36.0     -83.75  2015-01-05    -2.119995"
      ]
     },
     "execution_count": 11,
     "metadata": {},
     "output_type": "execute_result"
    }
   ],
   "source": [
    "# Show dataframe\n",
    "df.head()"
   ]
  }
 ],
 "metadata": {
  "kernelspec": {
   "display_name": "Python3 (capstone)",
   "language": "python",
   "name": "capstone"
  },
  "language_info": {
   "codemirror_mode": {
    "name": "ipython",
    "version": 3
   },
   "file_extension": ".py",
   "mimetype": "text/x-python",
   "name": "python",
   "nbconvert_exporter": "python",
   "pygments_lexer": "ipython3",
   "version": "3.10.13"
  }
 },
 "nbformat": 4,
 "nbformat_minor": 5
}
