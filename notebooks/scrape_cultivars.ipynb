{
 "cells": [
  {
   "cell_type": "markdown",
   "metadata": {},
   "source": [
    "# Scape Cultivar Hardiness Zone"
   ]
  },
  {
   "cell_type": "code",
   "execution_count": 20,
   "metadata": {},
   "outputs": [],
   "source": [
    "import selenium\n",
    "from selenium import webdriver\n",
    "from selenium.webdriver.common.by import By \n",
    "from selenium.webdriver.chrome.options import Options\n",
    "\n",
    "import pandas as pd"
   ]
  },
  {
   "cell_type": "code",
   "execution_count": 6,
   "metadata": {},
   "outputs": [],
   "source": [
    "# initiate web driver\n",
    "browser = webdriver.Chrome()"
   ]
  },
  {
   "cell_type": "markdown",
   "metadata": {},
   "source": [
    "## Sample"
   ]
  },
  {
   "cell_type": "code",
   "execution_count": 7,
   "metadata": {},
   "outputs": [],
   "source": [
    "# Landing Page\n",
    "browser.get('https://www.starkbros.com/products/fruit-trees/apple-trees')"
   ]
  },
  {
   "cell_type": "code",
   "execution_count": 18,
   "metadata": {},
   "outputs": [],
   "source": [
    "# one apple\n",
    "browser.get(f\"https://www.starkbros.com/products/fruit-trees/apple-trees/{apples[0]}\")\n"
   ]
  },
  {
   "cell_type": "code",
   "execution_count": 65,
   "metadata": {},
   "outputs": [],
   "source": [
    "# https://www.geeksforgeeks.org/scrape-table-from-website-using-python-selenium/\n",
    "# https://selenium-python.readthedocs.io/locating-elements.html\n",
    "\n",
    "# tr = The Table Row element\n",
    "# td is Table Data Cell element\n",
    "web_page = browser.find_elements(By.XPATH, \"//table[@class='characteristics-table']/tbody/tr[1]/td[1]\")\n",
    "rows = 7\n"
   ]
  },
  {
   "cell_type": "markdown",
   "metadata": {},
   "source": [
    "## Web Scraping\n",
    "\n",
    "Exempt: cider-apple-tree-collection, deluxe-apple-lovers-collection, early-season-harvest-apple-tree-collection, Mid-Season Harvest Apple Tree Collection, starkspur-apple-tree-collection, stark-contemporary-favorites-apple-tree-collection,summer-apple-tree-collection, urban-pollinator-pack-apple-tree-collection"
   ]
  },
  {
   "cell_type": "code",
   "execution_count": 99,
   "metadata": {},
   "outputs": [],
   "source": [
    "apples = ['ambrosia-apple','apple-babe-genetic-dwarf-apple','apples-of-yesteryear-collection','baldwin-apple','ben-davis-apple','braeburn-apple','buckeye-gala-apple','candycrisp-apple',\n",
    "          'chenango-strawberry-apple','chestnut-crabapple','cortland-apple','coxs-orange-pippin-antique-apple','crimsoncrisp-apple','empire-apple','enterprise-apple','franklin-cider-apple',\n",
    "          'garden-delicious-genetic-dwarf-apple','ginger-gold-apple','goldrush-apple','golden-russet-apple','granny-smith-apple','gravenstein-apple','grimes-golden-apple','honeycrisp-apple',\n",
    "          'jonafree-apple','jonagold-apple','kinderkrisp-apple','liberty-apple','macoun-apple','mutsu-apple','myra-red-fuji-apple','northern-spy-apple','orleans-antique-apple','pink-lady-apple',\n",
    "          'pioneer-mac-apple', 'pristine-apple','red-fuji-apple','red-rome-beauty-apple','red-stayman-winesap-apple','royal-empire-apple','rubymac-apple','stark-scarlet-crush-apple','september-wonder-fuji-apple',\n",
    "          'sheeps-nose-apple','smokehouse-apple','snappymac-apple','snapp-stayman-apple','snowsweet-apple','starkrimson-gala-apple','starkrimson-red-delicious-apple','starkspur-arkansas-black-apple',\n",
    "          'starkspur-mcintosh-apple','starkspur-red-delicious-apple','starkspur-red-rome-beauty-apple','starkspur-winesap-apple','starkspur-winter-banana-antique-apple','stark-crimson-spire-apple','stark-emerald-spire-apple',\n",
    "          'stark-golden-delicious-apple','stark-grandgala-apple','stark-harts-fancy-apple','stark-jon-a-red-jonathan-apple','stark-lodi-apple','stark-red-romance-apple','stark-royal-gala-apple',\n",
    "          'stark-ruby-darling-apple','stark-scarlet-spire-apple','stark-ultra-spire-apple','summer-rambo-apple','wealthy-apple','whitney-crabapple','wiltons-red-jonaprince-apple','winecrisp-apple',\n",
    "          'wolf-river-apple','yellow-transparent-apple','york-imperial-apple','zestar-apple']\n",
    "\n",
    "\n",
    "full_data = {}\n",
    "for apple in apples:\n",
    "\n",
    "    browser.get(f\"https://www.starkbros.com/products/fruit-trees/apple-trees/{apple}\")\n",
    "    \n",
    "    apple_data = {}\n",
    "    for row in range(rows+1):\n",
    "        characteristics = browser.find_elements(By.XPATH, f\"//table[@class='characteristics-table']/tbody/tr[{row}]/td[1]\")\n",
    "        characteristics_val = browser.find_elements(By.XPATH, f\"//table[@class='characteristics-table']/tbody/tr[{row}]/td[2]\")\n",
    "        \n",
    "        for i in range(len(characteristics)):\n",
    "            #print(f\"{characteristics[i].text} : {characteristics_val[i].text}\")\n",
    "            apple_data[characteristics[i].text] = characteristics_val[i].text\n",
    "\n",
    "    full_data[apple] = apple_data"
   ]
  },
  {
   "cell_type": "code",
   "execution_count": 100,
   "metadata": {},
   "outputs": [],
   "source": [
    "scraped_results_df = pd.DataFrame.from_dict(full_data, orient = 'index')"
   ]
  },
  {
   "cell_type": "code",
   "execution_count": 103,
   "metadata": {},
   "outputs": [
    {
     "data": {
      "text/html": [
       "<div>\n",
       "<style scoped>\n",
       "    .dataframe tbody tr th:only-of-type {\n",
       "        vertical-align: middle;\n",
       "    }\n",
       "\n",
       "    .dataframe tbody tr th {\n",
       "        vertical-align: top;\n",
       "    }\n",
       "\n",
       "    .dataframe thead th {\n",
       "        text-align: right;\n",
       "    }\n",
       "</style>\n",
       "<table border=\"1\" class=\"dataframe\">\n",
       "  <thead>\n",
       "    <tr style=\"text-align: right;\">\n",
       "      <th></th>\n",
       "      <th>Bloom Color</th>\n",
       "      <th>Soil Composition</th>\n",
       "      <th>Bloom Time</th>\n",
       "      <th>Soil Moisture</th>\n",
       "      <th>Chill Hours</th>\n",
       "      <th>Soil pH Level</th>\n",
       "      <th>Fruit Color</th>\n",
       "      <th>Taste</th>\n",
       "      <th>Fruit Size</th>\n",
       "      <th>Texture</th>\n",
       "      <th>Ripens/Harvest</th>\n",
       "      <th>Years to Bear</th>\n",
       "      <th>Shade/Sun</th>\n",
       "      <th>Zone Range</th>\n",
       "      <th>Pollination</th>\n",
       "    </tr>\n",
       "  </thead>\n",
       "  <tbody>\n",
       "    <tr>\n",
       "      <th>ambrosia-apple</th>\n",
       "      <td>Pink, White</td>\n",
       "      <td>Loamy</td>\n",
       "      <td>Early - Mid</td>\n",
       "      <td>Well Drained</td>\n",
       "      <td>700</td>\n",
       "      <td>6.0 - 7.0</td>\n",
       "      <td>Yellow</td>\n",
       "      <td>Sweet</td>\n",
       "      <td>Medium - Large</td>\n",
       "      <td>Firm, Crisp</td>\n",
       "      <td>September</td>\n",
       "      <td>2 - 5</td>\n",
       "      <td>Full Sun</td>\n",
       "      <td>4 - 8</td>\n",
       "      <td>NaN</td>\n",
       "    </tr>\n",
       "    <tr>\n",
       "      <th>apple-babe-genetic-dwarf-apple</th>\n",
       "      <td>Pink, White</td>\n",
       "      <td>Loamy</td>\n",
       "      <td>Mid</td>\n",
       "      <td>Well Drained</td>\n",
       "      <td>700</td>\n",
       "      <td>6.0 - 7.0</td>\n",
       "      <td>Red</td>\n",
       "      <td>Sweet</td>\n",
       "      <td>Medium</td>\n",
       "      <td>Crisp</td>\n",
       "      <td>August</td>\n",
       "      <td>2 - 4</td>\n",
       "      <td>Full Sun</td>\n",
       "      <td>4 - 8</td>\n",
       "      <td>NaN</td>\n",
       "    </tr>\n",
       "    <tr>\n",
       "      <th>baldwin-apple</th>\n",
       "      <td>White</td>\n",
       "      <td>Loamy</td>\n",
       "      <td>Mid - Late</td>\n",
       "      <td>Well Drained</td>\n",
       "      <td>NaN</td>\n",
       "      <td>6.0 - 7.0</td>\n",
       "      <td>Red</td>\n",
       "      <td>NaN</td>\n",
       "      <td>Medium - Large</td>\n",
       "      <td>Crisp</td>\n",
       "      <td>October</td>\n",
       "      <td>2 - 5</td>\n",
       "      <td>Full Sun</td>\n",
       "      <td>4 - 8</td>\n",
       "      <td>NaN</td>\n",
       "    </tr>\n",
       "    <tr>\n",
       "      <th>ben-davis-apple</th>\n",
       "      <td>Pink, Red, White</td>\n",
       "      <td>Loamy</td>\n",
       "      <td>Mid</td>\n",
       "      <td>Well Drained</td>\n",
       "      <td>NaN</td>\n",
       "      <td>6.0 - 7.0</td>\n",
       "      <td>Red</td>\n",
       "      <td>Mild, Subacid</td>\n",
       "      <td>Medium - Large</td>\n",
       "      <td>Firm, Coarse</td>\n",
       "      <td>Late September-early October</td>\n",
       "      <td>2 - 5</td>\n",
       "      <td>Full Sun</td>\n",
       "      <td>3 - 7</td>\n",
       "      <td>NaN</td>\n",
       "    </tr>\n",
       "    <tr>\n",
       "      <th>braeburn-apple</th>\n",
       "      <td>White</td>\n",
       "      <td>Loamy</td>\n",
       "      <td>Early - Mid</td>\n",
       "      <td>Well Drained</td>\n",
       "      <td>700</td>\n",
       "      <td>6.0 - 7.0</td>\n",
       "      <td>Red</td>\n",
       "      <td>Tangy</td>\n",
       "      <td>Medium - Large</td>\n",
       "      <td>Crisp</td>\n",
       "      <td>Late October</td>\n",
       "      <td>2 - 5</td>\n",
       "      <td>Full Sun</td>\n",
       "      <td>5 - 8</td>\n",
       "      <td>NaN</td>\n",
       "    </tr>\n",
       "  </tbody>\n",
       "</table>\n",
       "</div>"
      ],
      "text/plain": [
       "                                     Bloom Color Soil Composition  \\\n",
       "ambrosia-apple                       Pink, White            Loamy   \n",
       "apple-babe-genetic-dwarf-apple       Pink, White            Loamy   \n",
       "baldwin-apple                              White            Loamy   \n",
       "ben-davis-apple                 Pink, Red, White            Loamy   \n",
       "braeburn-apple                             White            Loamy   \n",
       "\n",
       "                                 Bloom Time Soil Moisture Chill Hours  \\\n",
       "ambrosia-apple                  Early - Mid  Well Drained         700   \n",
       "apple-babe-genetic-dwarf-apple          Mid  Well Drained         700   \n",
       "baldwin-apple                    Mid - Late  Well Drained         NaN   \n",
       "ben-davis-apple                         Mid  Well Drained         NaN   \n",
       "braeburn-apple                  Early - Mid  Well Drained         700   \n",
       "\n",
       "                               Soil pH Level Fruit Color          Taste  \\\n",
       "ambrosia-apple                     6.0 - 7.0      Yellow          Sweet   \n",
       "apple-babe-genetic-dwarf-apple     6.0 - 7.0         Red          Sweet   \n",
       "baldwin-apple                      6.0 - 7.0         Red            NaN   \n",
       "ben-davis-apple                    6.0 - 7.0         Red  Mild, Subacid   \n",
       "braeburn-apple                     6.0 - 7.0         Red          Tangy   \n",
       "\n",
       "                                    Fruit Size       Texture  \\\n",
       "ambrosia-apple                  Medium - Large   Firm, Crisp   \n",
       "apple-babe-genetic-dwarf-apple          Medium         Crisp   \n",
       "baldwin-apple                   Medium - Large         Crisp   \n",
       "ben-davis-apple                 Medium - Large  Firm, Coarse   \n",
       "braeburn-apple                  Medium - Large         Crisp   \n",
       "\n",
       "                                              Ripens/Harvest Years to Bear  \\\n",
       "ambrosia-apple                                     September         2 - 5   \n",
       "apple-babe-genetic-dwarf-apple                        August         2 - 4   \n",
       "baldwin-apple                                        October         2 - 5   \n",
       "ben-davis-apple                 Late September-early October         2 - 5   \n",
       "braeburn-apple                                  Late October         2 - 5   \n",
       "\n",
       "                               Shade/Sun Zone Range Pollination  \n",
       "ambrosia-apple                  Full Sun      4 - 8         NaN  \n",
       "apple-babe-genetic-dwarf-apple  Full Sun      4 - 8         NaN  \n",
       "baldwin-apple                   Full Sun      4 - 8         NaN  \n",
       "ben-davis-apple                 Full Sun      3 - 7         NaN  \n",
       "braeburn-apple                  Full Sun      5 - 8         NaN  "
      ]
     },
     "execution_count": 103,
     "metadata": {},
     "output_type": "execute_result"
    }
   ],
   "source": [
    "#results\n",
    "scraped_results_df.head()"
   ]
  },
  {
   "cell_type": "code",
   "execution_count": 102,
   "metadata": {},
   "outputs": [],
   "source": [
    "# Explort to CSV\n",
    "scraped_results_df.to_csv('../data/starkbros_apples.csv')"
   ]
  }
 ],
 "metadata": {
  "kernelspec": {
   "display_name": "Python 3 (ipykernel)",
   "language": "python",
   "name": "python3"
  },
  "language_info": {
   "codemirror_mode": {
    "name": "ipython",
    "version": 3
   },
   "file_extension": ".py",
   "mimetype": "text/x-python",
   "name": "python",
   "nbconvert_exporter": "python",
   "pygments_lexer": "ipython3",
   "version": "3.11.5"
  }
 },
 "nbformat": 4,
 "nbformat_minor": 2
}
