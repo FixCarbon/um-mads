{
 "cells": [
  {
   "cell_type": "markdown",
   "id": "9c026860-1739-47d7-a4bc-4aef3a9bbcca",
   "metadata": {},
   "source": [
    "# Create Hardiness Zones\n",
    "\n",
    "Based on the hardines zones function in the xclim library: https://xclim.readthedocs.io/en/stable/indices.html#xclim.indices.hardiness_zones"
   ]
  },
  {
   "cell_type": "code",
   "execution_count": 1,
   "id": "7226f617-74d5-42c2-a0f0-45b8ac95db7d",
   "metadata": {},
   "outputs": [],
   "source": [
    "import pandas as pd\n",
    "import numpy as np"
   ]
  },
  {
   "cell_type": "code",
   "execution_count": 2,
   "id": "217d0d50-7d59-4565-a9d2-1de129131d91",
   "metadata": {},
   "outputs": [
    {
     "data": {
      "text/html": [
       "<div>\n",
       "<style scoped>\n",
       "    .dataframe tbody tr th:only-of-type {\n",
       "        vertical-align: middle;\n",
       "    }\n",
       "\n",
       "    .dataframe tbody tr th {\n",
       "        vertical-align: top;\n",
       "    }\n",
       "\n",
       "    .dataframe thead th {\n",
       "        text-align: right;\n",
       "    }\n",
       "</style>\n",
       "<table border=\"1\" class=\"dataframe\">\n",
       "  <thead>\n",
       "    <tr style=\"text-align: right;\">\n",
       "      <th></th>\n",
       "      <th>lat</th>\n",
       "      <th>lon</th>\n",
       "      <th>time</th>\n",
       "      <th>fahrenheit</th>\n",
       "    </tr>\n",
       "  </thead>\n",
       "  <tbody>\n",
       "    <tr>\n",
       "      <th>0</th>\n",
       "      <td>35.25</td>\n",
       "      <td>-83.75</td>\n",
       "      <td>1985-01-01</td>\n",
       "      <td>51.242004</td>\n",
       "    </tr>\n",
       "    <tr>\n",
       "      <th>1</th>\n",
       "      <td>35.25</td>\n",
       "      <td>-83.50</td>\n",
       "      <td>1985-01-01</td>\n",
       "      <td>51.422016</td>\n",
       "    </tr>\n",
       "    <tr>\n",
       "      <th>2</th>\n",
       "      <td>35.25</td>\n",
       "      <td>-83.25</td>\n",
       "      <td>1985-01-01</td>\n",
       "      <td>50.450001</td>\n",
       "    </tr>\n",
       "    <tr>\n",
       "      <th>3</th>\n",
       "      <td>35.25</td>\n",
       "      <td>-83.00</td>\n",
       "      <td>1985-01-01</td>\n",
       "      <td>50.036034</td>\n",
       "    </tr>\n",
       "    <tr>\n",
       "      <th>4</th>\n",
       "      <td>35.25</td>\n",
       "      <td>-82.75</td>\n",
       "      <td>1985-01-01</td>\n",
       "      <td>51.296001</td>\n",
       "    </tr>\n",
       "  </tbody>\n",
       "</table>\n",
       "</div>"
      ],
      "text/plain": [
       "     lat    lon       time  fahrenheit\n",
       "0  35.25 -83.75 1985-01-01   51.242004\n",
       "1  35.25 -83.50 1985-01-01   51.422016\n",
       "2  35.25 -83.25 1985-01-01   50.450001\n",
       "3  35.25 -83.00 1985-01-01   50.036034\n",
       "4  35.25 -82.75 1985-01-01   51.296001"
      ]
     },
     "execution_count": 2,
     "metadata": {},
     "output_type": "execute_result"
    }
   ],
   "source": [
    "df_path = '../data/processed/df_easternmountain_weather.parquet.gzip'\n",
    "df = pd.read_parquet(df_path)\n",
    "df['time']=pd.to_datetime(df['time'])\n",
    "df.head()"
   ]
  },
  {
   "cell_type": "code",
   "execution_count": 3,
   "id": "444cbc76-550b-4ab9-8f5b-68be7ce74d96",
   "metadata": {},
   "outputs": [],
   "source": [
    "def temp_min(df,freq='YS'):\n",
    "    ''' Takes DataFrame with temperature data and finds minimum temperature in the frequency given'''\n",
    "    if df.index.name=='time':\n",
    "        return df.groupby([pd.Grouper(level='time',freq=freq),'lat','lon']).min()\n",
    "    else:\n",
    "        return df.groupby([pd.Grouper(key='time',freq=freq),'lat','lon']).min()"
   ]
  },
  {
   "cell_type": "code",
   "execution_count": 4,
   "id": "00aded6d-347b-497c-9a2a-fae2b30dba5b",
   "metadata": {},
   "outputs": [
    {
     "data": {
      "text/html": [
       "<div>\n",
       "<style scoped>\n",
       "    .dataframe tbody tr th:only-of-type {\n",
       "        vertical-align: middle;\n",
       "    }\n",
       "\n",
       "    .dataframe tbody tr th {\n",
       "        vertical-align: top;\n",
       "    }\n",
       "\n",
       "    .dataframe thead th {\n",
       "        text-align: right;\n",
       "    }\n",
       "</style>\n",
       "<table border=\"1\" class=\"dataframe\">\n",
       "  <thead>\n",
       "    <tr style=\"text-align: right;\">\n",
       "      <th></th>\n",
       "      <th></th>\n",
       "      <th></th>\n",
       "      <th>fahrenheit</th>\n",
       "    </tr>\n",
       "    <tr>\n",
       "      <th>time</th>\n",
       "      <th>lat</th>\n",
       "      <th>lon</th>\n",
       "      <th></th>\n",
       "    </tr>\n",
       "  </thead>\n",
       "  <tbody>\n",
       "    <tr>\n",
       "      <th rowspan=\"5\" valign=\"top\">1985-01-01</th>\n",
       "      <th rowspan=\"5\" valign=\"top\">35.25</th>\n",
       "      <th>-83.75</th>\n",
       "      <td>-0.075985</td>\n",
       "    </tr>\n",
       "    <tr>\n",
       "      <th>-83.50</th>\n",
       "      <td>0.176014</td>\n",
       "    </tr>\n",
       "    <tr>\n",
       "      <th>-83.25</th>\n",
       "      <td>3.326014</td>\n",
       "    </tr>\n",
       "    <tr>\n",
       "      <th>-83.00</th>\n",
       "      <td>10.364019</td>\n",
       "    </tr>\n",
       "    <tr>\n",
       "      <th>-82.75</th>\n",
       "      <td>12.056025</td>\n",
       "    </tr>\n",
       "  </tbody>\n",
       "</table>\n",
       "</div>"
      ],
      "text/plain": [
       "                         fahrenheit\n",
       "time       lat   lon               \n",
       "1985-01-01 35.25 -83.75   -0.075985\n",
       "                 -83.50    0.176014\n",
       "                 -83.25    3.326014\n",
       "                 -83.00   10.364019\n",
       "                 -82.75   12.056025"
      ]
     },
     "execution_count": 4,
     "metadata": {},
     "output_type": "execute_result"
    }
   ],
   "source": [
    "small_df = df.iloc[:5000]\n",
    "min_df = temp_min(small_df)\n",
    "min_df.head()"
   ]
  },
  {
   "cell_type": "code",
   "execution_count": 5,
   "id": "699f3785-bd97-4c3d-a292-430ce9b4101c",
   "metadata": {},
   "outputs": [],
   "source": [
    "#rolling window\n",
    "def extract_hardiness(df,window=30):\n",
    "    '''Get USDA Hardiness Zones with rolling window'''\n",
    "    window_df = df.rolling(window).mean()\n",
    "    binned = pd.cut(window_df['fahrenheit'],bins=range(-60,70,5),labels=np.linspace(1,13,25))\n",
    "    return binned"
   ]
  },
  {
   "cell_type": "code",
   "execution_count": 6,
   "id": "dacd97ec-e644-4f3f-84c5-ff891928e12e",
   "metadata": {},
   "outputs": [
    {
     "data": {
      "text/plain": [
       "time        lat    lon   \n",
       "1985-01-01  35.25  -83.75    NaN\n",
       "                   -83.50    NaN\n",
       "                   -83.25    NaN\n",
       "                   -83.00    NaN\n",
       "                   -82.75    NaN\n",
       "                            ... \n",
       "            39.50  -78.75    7.5\n",
       "                   -78.50    7.5\n",
       "                   -78.25    7.5\n",
       "                   -78.00    7.5\n",
       "                   -77.75    7.5\n",
       "Name: fahrenheit, Length: 279, dtype: category\n",
       "Categories (25, float64): [1.0 < 1.5 < 2.0 < 2.5 ... 11.5 < 12.0 < 12.5 < 13.0]"
      ]
     },
     "execution_count": 6,
     "metadata": {},
     "output_type": "execute_result"
    }
   ],
   "source": [
    "extract_hardiness(min_df)"
   ]
  },
  {
   "cell_type": "code",
   "execution_count": null,
   "id": "8bea4d02-a31c-4827-8e58-71e861b47edd",
   "metadata": {},
   "outputs": [],
   "source": []
  }
 ],
 "metadata": {
  "kernelspec": {
   "display_name": "Python 3 (ipykernel)",
   "language": "python",
   "name": "python3"
  },
  "language_info": {
   "codemirror_mode": {
    "name": "ipython",
    "version": 3
   },
   "file_extension": ".py",
   "mimetype": "text/x-python",
   "name": "python",
   "nbconvert_exporter": "python",
   "pygments_lexer": "ipython3",
   "version": "3.11.8"
  }
 },
 "nbformat": 4,
 "nbformat_minor": 5
}
